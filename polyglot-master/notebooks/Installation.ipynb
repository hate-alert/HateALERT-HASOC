{
 "cells": [
  {
   "cell_type": "markdown",
   "metadata": {},
   "source": [
    "#Installation"
   ]
  },
  {
   "cell_type": "markdown",
   "metadata": {},
   "source": [
    "## Installing/Upgrading From the PyPI\n",
    "\n",
    "\n",
    "    $ pip install polyglot"
   ]
  },
  {
   "cell_type": "markdown",
   "metadata": {},
   "source": [
    "### Dependencies\n",
    "\n",
    "polyglot depends on [numpy](http://www.numpy.org/) and [libicu-dev](https://packages.debian.org/sid/libicu-dev), on ubuntu/debian linux distribution you can install such packages by executing the following command:"
   ]
  },
  {
   "cell_type": "code",
   "execution_count": null,
   "metadata": {
    "collapsed": false
   },
   "outputs": [],
   "source": [
    "sudo apt-get install python-numpy libicu-dev"
   ]
  },
  {
   "cell_type": "markdown",
   "metadata": {},
   "source": [
    "## From Source\n",
    "\n",
    "\n",
    "polyglot is actively developed on\n",
    "[Github](https://github.com/aboSamoor/polyglot).\n",
    "\n",
    "You can clone the public repo:"
   ]
  },
  {
   "cell_type": "code",
   "execution_count": null,
   "metadata": {
    "collapsed": true
   },
   "outputs": [],
   "source": [
    "git clone https://github.com/aboSamoor/polyglot"
   ]
  },
  {
   "cell_type": "markdown",
   "metadata": {},
   "source": [
    "Or download one of the following:\n",
    "\n",
    "-   [tarball](https://github.com/aboSamoor/polyglot/tarball/master)\n",
    "-   [zipball](https://github.com/aboSamoor/polyglot/zipball/master)"
   ]
  },
  {
   "cell_type": "markdown",
   "metadata": {},
   "source": [
    "Once you have the source, you can install it into your site-packages\n",
    "with:"
   ]
  },
  {
   "cell_type": "code",
   "execution_count": null,
   "metadata": {
    "collapsed": true
   },
   "outputs": [],
   "source": [
    "python setup.py install"
   ]
  },
  {
   "cell_type": "markdown",
   "metadata": {},
   "source": [
    "## Get the bleeding edge version\n",
    "\n",
    "To get the latest development version of polyglot, run :\n",
    "\n",
    "    $ pip install -U git+https://github.com/aboSamoor/polyglot.git@master"
   ]
  },
  {
   "cell_type": "markdown",
   "metadata": {},
   "source": [
    "### Python\n",
    "\n",
    "polyglot supports Python \\>=2.7 or \\>=3.4."
   ]
  }
 ],
 "metadata": {
  "kernelspec": {
   "display_name": "Python 2",
   "language": "python",
   "name": "python2"
  },
  "language_info": {
   "codemirror_mode": {
    "name": "ipython",
    "version": 2
   },
   "file_extension": ".py",
   "mimetype": "text/x-python",
   "name": "python",
   "nbconvert_exporter": "python",
   "pygments_lexer": "ipython2",
   "version": "2.7.6"
  }
 },
 "nbformat": 4,
 "nbformat_minor": 0
}
