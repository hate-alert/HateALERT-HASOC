{
 "cells": [
  {
   "cell_type": "markdown",
   "metadata": {},
   "source": [
    "# Tasks\n",
    "\n",
    "- ~~POS~~\n",
    "- ~~morphological analysis~~\n",
    "- ~~transliteration~~\n",
    "\n",
    "# Library Interface\n",
    "- ~~Sentiment~~\n",
    "- ~~NER~~\n",
    "- Frequency based comparison\n",
    "\n",
    "\n",
    "# Command Line interface\n",
    "\n",
    "- Sentiment\n",
    "- Reading stdin column format\n",
    "\n",
    "\n",
    "# Infrastructure\n",
    "- ~~Cache models~~\n",
    "- ~~Add normalization to the embeddings~~\n",
    "- ~~Detect supported languages~~\n",
    " - ~~added task/lang as part of the identifier, what is left is to iterate over the collections.~~\n",
    "- ~~Throw different exception for missing package than undownloaded one~~\n",
    "- ~~Define NotSupportedLanguage/Task Exception for the downloader~~\n",
    "- ~~Remove noun phrases support.~~\n",
    "- ~~Train more/new POS taggers~~\n",
    "\n",
    "\n",
    "# Documentation\n",
    "\n",
    "- Add a quick tutorial\n",
    "- Embed demos in our documentation\n",
    "- ~~pycld2 README~~\n",
    "- ~~Update rtdcs with the new submodules.~~"
   ]
  }
 ],
 "metadata": {
  "kernelspec": {
   "display_name": "Python 2",
   "language": "python",
   "name": "python2"
  },
  "language_info": {
   "codemirror_mode": {
    "name": "ipython",
    "version": 2
   },
   "file_extension": ".py",
   "mimetype": "text/x-python",
   "name": "python",
   "nbconvert_exporter": "python",
   "pygments_lexer": "ipython2",
   "version": "2.7.6"
  }
 },
 "nbformat": 4,
 "nbformat_minor": 0
}
